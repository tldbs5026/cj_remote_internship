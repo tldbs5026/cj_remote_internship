{
  "cells": [
    {
      "cell_type": "markdown",
      "metadata": {
        "id": "1b07ab65"
      },
      "source": [
        "# lib loading"
      ],
      "id": "1b07ab65"
    },
    {
      "cell_type": "code",
      "execution_count": null,
      "metadata": {
        "colab": {
          "background_save": true
        },
        "id": "94deb475"
      },
      "outputs": [],
      "source": [
        "import numpy as np\n",
        "import seaborn as sns\n",
        "import pandas as pd\n",
        "import matplotlib.pyplot as plt\n"
      ],
      "id": "94deb475"
    },
    {
      "cell_type": "code",
      "execution_count": null,
      "metadata": {
        "id": "2fe9a546",
        "outputId": "c892d013-63e3-48a9-9f9d-a6f415237c67",
        "scrolled": true
      },
      "outputs": [
        {
          "data": {
            "text/plain": [
              "1500     390468\n",
              "3400     209617\n",
              "4800     178482\n",
              "4000      68449\n",
              "4200      55182\n",
              "6000      45072\n",
              "2500      45052\n",
              "1600      21859\n",
              "1900       3765\n",
              "1700       2658\n",
              "0          2461\n",
              "1800       2200\n",
              "5100       1521\n",
              "250        1140\n",
              "1000       1084\n",
              "4100        920\n",
              "2900        755\n",
              "17700       588\n",
              "4900        560\n",
              "5700        499\n",
              "4700        461\n",
              "16300       446\n",
              "17300       428\n",
              "3900        409\n",
              "5900        403\n",
              "17400       373\n",
              "17500       321\n",
              "16700       312\n",
              "3700        294\n",
              "17000       263\n",
              "16100       249\n",
              "5500        247\n",
              "17200       245\n",
              "18300       239\n",
              "17600       238\n",
              "7100        231\n",
              "16500       230\n",
              "17100       220\n",
              "16200       218\n",
              "7400        217\n",
              "4300        215\n",
              "6200        210\n",
              "16400       208\n",
              "17800       204\n",
              "17900       204\n",
              "18000       203\n",
              "4400        196\n",
              "3800        185\n",
              "5200        182\n",
              "18100       182\n",
              "Name: EDEC_SBRDN_AMT, dtype: int64"
            ]
          },
          "execution_count": 2,
          "metadata": {},
          "output_type": "execute_result"
        }
      ],
      "source": [
        "data=pd.read_csv('dataset1.CSV', engine='python', encoding = 'utf-8')\n",
        "data.head(50)\n",
        "\n",
        "\n",
        "#data['EDEC_JBRDN_AMT'].value_counts().head(50)\n",
        "\n",
        "\n",
        "data['EDEC_SBRDN_AMT'].value_counts().head(50)\n",
        "\n",
        "data['AGE_GROUP'].value_counts()"
      ],
      "id": "2fe9a546"
    },
    {
      "cell_type": "code",
      "execution_count": null,
      "metadata": {
        "id": "90d3c960"
      },
      "outputs": [],
      "source": [
        "data.info()"
      ],
      "id": "90d3c960"
    },
    {
      "cell_type": "code",
      "execution_count": null,
      "metadata": {
        "id": "9c54fcad"
      },
      "outputs": [],
      "source": [
        "data.shape"
      ],
      "id": "9c54fcad"
    },
    {
      "cell_type": "code",
      "execution_count": null,
      "metadata": {
        "id": "21e26884"
      },
      "outputs": [],
      "source": [
        "data.describe()"
      ],
      "id": "21e26884"
    },
    {
      "cell_type": "code",
      "execution_count": null,
      "metadata": {
        "id": "15985524",
        "scrolled": true
      },
      "outputs": [],
      "source": [
        "data.isnull().sum()"
      ],
      "id": "15985524"
    },
    {
      "cell_type": "markdown",
      "metadata": {
        "id": "113b85ee"
      },
      "source": [
        "# preprocessing"
      ],
      "id": "113b85ee"
    },
    {
      "cell_type": "code",
      "execution_count": null,
      "metadata": {
        "id": "e301add4",
        "outputId": "aea2a3f8-f8fc-4c44-9c21-9b26cabdd425",
        "scrolled": true
      },
      "outputs": [
        {
          "name": "stdout",
          "output_type": "stream",
          "text": [
            "<class 'pandas.core.frame.DataFrame'>\n",
            "RangeIndex: 1048575 entries, 0 to 1048574\n",
            "Data columns (total 5 columns):\n",
            " #   Column      Non-Null Count    Dtype \n",
            "---  ------      --------------    ----- \n",
            " 0   SEX         1048575 non-null  int64 \n",
            " 1   AGE_GROUP   1048575 non-null  int64 \n",
            " 2   RECU_FR_DT  1048575 non-null  object\n",
            " 3   MAIN_SICK   1048575 non-null  object\n",
            " 4   SUB_SICK    1048575 non-null  object\n",
            "dtypes: int64(2), object(3)\n",
            "memory usage: 40.0+ MB\n"
          ]
        },
        {
          "name": "stderr",
          "output_type": "stream",
          "text": [
            "<ipython-input-3-60a7a36c3763>:5: SettingWithCopyWarning: \n",
            "A value is trying to be set on a copy of a slice from a DataFrame.\n",
            "Try using .loc[row_indexer,col_indexer] = value instead\n",
            "\n",
            "See the caveats in the documentation: https://pandas.pydata.org/pandas-docs/stable/user_guide/indexing.html#returning-a-view-versus-a-copy\n",
            "  da['RECU_FR_DT']=pd.to_datetime(da['RECU_FR_DT'])\n",
            "<ipython-input-3-60a7a36c3763>:6: SettingWithCopyWarning: \n",
            "A value is trying to be set on a copy of a slice from a DataFrame.\n",
            "Try using .loc[row_indexer,col_indexer] = value instead\n",
            "\n",
            "See the caveats in the documentation: https://pandas.pydata.org/pandas-docs/stable/user_guide/indexing.html#returning-a-view-versus-a-copy\n",
            "  da['month']=da['RECU_FR_DT'].dt.month\n"
          ]
        },
        {
          "data": {
            "text/plain": [
              "1     118778\n",
              "2      93548\n",
              "11     90209\n",
              "9      87731\n",
              "7      86661\n",
              "12     85702\n",
              "6      85653\n",
              "10     83083\n",
              "3      81902\n",
              "5      81620\n",
              "8      78013\n",
              "4      75675\n",
              "Name: month, dtype: int64"
            ]
          },
          "execution_count": 3,
          "metadata": {},
          "output_type": "execute_result"
        }
      ],
      "source": [
        "import datetime\n",
        "\n",
        "da=data[['SEX','AGE_GROUP','RECU_FR_DT','MAIN_SICK','SUB_SICK']]\n",
        "da.info()\n",
        "da['RECU_FR_DT']=pd.to_datetime(da['RECU_FR_DT'])\n",
        "da['month']=da['RECU_FR_DT'].dt.month\n",
        "da['month'].value_counts()\n",
        "\n"
      ],
      "id": "e301add4"
    },
    {
      "cell_type": "code",
      "execution_count": null,
      "metadata": {
        "id": "cd04338f",
        "outputId": "9cf7b786-9e3b-4418-93ff-544b6846f7f1",
        "scrolled": true
      },
      "outputs": [
        {
          "name": "stdout",
          "output_type": "stream",
          "text": [
            "I109     141027\n",
            "J209      87358\n",
            "E119      26401\n",
            "J304      22956\n",
            "K210      22853\n",
            "L239      19240\n",
            "K219      17310\n",
            "J029      15078\n",
            "J0390     15008\n",
            "N400      12333\n",
            "J060      12138\n",
            "B351      12101\n",
            "J00       12081\n",
            "J303      11814\n",
            "N_        11011\n",
            "K297      10470\n",
            "F_        10104\n",
            "M170       9527\n",
            "M5456      8892\n",
            "M4806      8807\n",
            "J0190      8352\n",
            "K291       8146\n",
            "J040       7785\n",
            "J40        7756\n",
            "E785       7482\n",
            "J069       7153\n",
            "A099       7062\n",
            "L238       7031\n",
            "N185       6537\n",
            "A090       6208\n",
            "L500       5093\n",
            "L249       4838\n",
            "B353       4699\n",
            "J042       4609\n",
            "M511       4545\n",
            "J_         4532\n",
            "M179       4432\n",
            "L209       4351\n",
            "J329       4257\n",
            "J0100      4099\n",
            "K529       4084\n",
            "E782       3894\n",
            "J459       3771\n",
            "E039       3577\n",
            "J219       3555\n",
            "M171       3520\n",
            "S3350      3495\n",
            "L309       3473\n",
            "J320       3452\n",
            "N300       3439\n",
            "Name: MAIN_SICK, dtype: int64\n"
          ]
        }
      ],
      "source": [
        "print(da['MAIN_SICK'].value_counts().head(50))\n",
        "da['SUB_SICK'].value_counts().head(50)\n",
        "\n",
        "MAIN=['E11.9','J30.4','K210','L239','K219','J02.9','J03.90','J06.0','J00','J30.3','K29.7']\n",
        "SUB=[]\n",
        "\n",
        "\n",
        "### MAIN SICK\n",
        "#[E11.9] 합병증을 동반하지 않은 2형 당뇨병\n",
        "#[J30.4] 상세불명의 앨러지비염\n",
        "#K210 : 식도염을 동반한 위-식도역류\n",
        "#L239 : 상세불명 원인의 앨러지성 접촉피부염\n",
        "#K21.9 식도염을 동반하지 않은 위-식도역류병\n",
        "#J02.9 상세불명의 급성 인두염\n",
        "#J03.90 재발성으로 명시되어 있지 않은 상세불명의 급성 편도염\n",
        "#J06.0 급성 후두인두염\n",
        "#J00 급성 비인두염[감기]\n",
        "#J30.3 기타 앨러지비염\n",
        "#K29.7 상세불명의 위염\n",
        "### SUB SICK\n",
        "#[J20.9] 상세불명의 급성 기관지염\n",
        "#E78.5] 상세불명의 고지질혈증\n",
        "#K30] 기능성 소화불량\n",
        "#[E78.0] 순수 고콜레스테롤혈증\n",
        "#[I73.9] 상세불명의 말초혈관병\n",
        "#[J03.90] 재발성으로 명시되어 있지 않은 상세불명의 급성 편도염"
      ],
      "id": "cd04338f"
    },
    {
      "cell_type": "markdown",
      "metadata": {
        "id": "b354faae"
      },
      "source": [
        "## season"
      ],
      "id": "b354faae"
    },
    {
      "cell_type": "code",
      "execution_count": null,
      "metadata": {
        "id": "6b2bbb94"
      },
      "outputs": [],
      "source": [
        "def season(x) :\n",
        "    if x>=3 and x<= 5 :\n",
        "        return 1\n",
        "    elif x>=6 and x<= 8 :\n",
        "        return 2\n",
        "    elif x>=9 and x<=11 :\n",
        "        return 3\n",
        "    else :\n",
        "        return 4\n"
      ],
      "id": "6b2bbb94"
    },
    {
      "cell_type": "code",
      "execution_count": null,
      "metadata": {
        "id": "a67bccac",
        "outputId": "b11144a9-2aa7-49fb-9e90-f49ffb01c1f0"
      },
      "outputs": [
        {
          "name": "stderr",
          "output_type": "stream",
          "text": [
            "<ipython-input-6-8bd727a4581b>:1: SettingWithCopyWarning: \n",
            "A value is trying to be set on a copy of a slice from a DataFrame.\n",
            "Try using .loc[row_indexer,col_indexer] = value instead\n",
            "\n",
            "See the caveats in the documentation: https://pandas.pydata.org/pandas-docs/stable/user_guide/indexing.html#returning-a-view-versus-a-copy\n",
            "  da['season']=da['month'].apply(season)\n"
          ]
        },
        {
          "data": {
            "text/plain": [
              "4    298028\n",
              "3    261023\n",
              "2    250327\n",
              "1    239197\n",
              "Name: season, dtype: int64"
            ]
          },
          "execution_count": 6,
          "metadata": {},
          "output_type": "execute_result"
        }
      ],
      "source": [
        "da['season']=da['month'].apply(season)\n",
        "\n",
        "da['season'].value_counts()"
      ],
      "id": "a67bccac"
    },
    {
      "cell_type": "markdown",
      "metadata": {
        "id": "d7b14d61"
      },
      "source": [
        "## mainsick"
      ],
      "id": "d7b14d61"
    },
    {
      "cell_type": "code",
      "execution_count": null,
      "metadata": {
        "id": "390e54c8",
        "outputId": "4d8856dc-6bd1-4d59-d6aa-ba4b43affda7",
        "scrolled": true
      },
      "outputs": [
        {
          "name": "stdout",
          "output_type": "stream",
          "text": [
            "E119     26401\n",
            "J304     22956\n",
            "K210     22853\n",
            "L239     19240\n",
            "K219     17310\n",
            "J0390    15008\n",
            "J00      12081\n",
            "J303     11814\n",
            "K297     10470\n",
            "Name: main, dtype: int64\n"
          ]
        },
        {
          "data": {
            "text/html": [
              "<div>\n",
              "<style scoped>\n",
              "    .dataframe tbody tr th:only-of-type {\n",
              "        vertical-align: middle;\n",
              "    }\n",
              "\n",
              "    .dataframe tbody tr th {\n",
              "        vertical-align: top;\n",
              "    }\n",
              "\n",
              "    .dataframe thead th {\n",
              "        text-align: right;\n",
              "    }\n",
              "</style>\n",
              "<table border=\"1\" class=\"dataframe\">\n",
              "  <thead>\n",
              "    <tr style=\"text-align: right;\">\n",
              "      <th></th>\n",
              "      <th>SEX</th>\n",
              "      <th>AGE_GROUP</th>\n",
              "      <th>RECU_FR_DT</th>\n",
              "      <th>MAIN_SICK</th>\n",
              "      <th>SUB_SICK</th>\n",
              "      <th>month</th>\n",
              "      <th>season</th>\n",
              "      <th>main</th>\n",
              "    </tr>\n",
              "  </thead>\n",
              "  <tbody>\n",
              "    <tr>\n",
              "      <th>7172</th>\n",
              "      <td>1</td>\n",
              "      <td>14</td>\n",
              "      <td>2020-10-05</td>\n",
              "      <td>J304</td>\n",
              "      <td>K297</td>\n",
              "      <td>10</td>\n",
              "      <td>3</td>\n",
              "      <td>J304</td>\n",
              "    </tr>\n",
              "    <tr>\n",
              "      <th>7184</th>\n",
              "      <td>1</td>\n",
              "      <td>14</td>\n",
              "      <td>2020-09-25</td>\n",
              "      <td>K219</td>\n",
              "      <td>K297</td>\n",
              "      <td>9</td>\n",
              "      <td>3</td>\n",
              "      <td>K219</td>\n",
              "    </tr>\n",
              "    <tr>\n",
              "      <th>7193</th>\n",
              "      <td>2</td>\n",
              "      <td>14</td>\n",
              "      <td>2020-09-28</td>\n",
              "      <td>K219</td>\n",
              "      <td>K297</td>\n",
              "      <td>9</td>\n",
              "      <td>3</td>\n",
              "      <td>K219</td>\n",
              "    </tr>\n",
              "    <tr>\n",
              "      <th>7194</th>\n",
              "      <td>2</td>\n",
              "      <td>14</td>\n",
              "      <td>2020-10-05</td>\n",
              "      <td>K219</td>\n",
              "      <td>K297</td>\n",
              "      <td>10</td>\n",
              "      <td>3</td>\n",
              "      <td>K219</td>\n",
              "    </tr>\n",
              "    <tr>\n",
              "      <th>7196</th>\n",
              "      <td>1</td>\n",
              "      <td>14</td>\n",
              "      <td>2020-01-09</td>\n",
              "      <td>K210</td>\n",
              "      <td>K297</td>\n",
              "      <td>1</td>\n",
              "      <td>4</td>\n",
              "      <td>K210</td>\n",
              "    </tr>\n",
              "    <tr>\n",
              "      <th>...</th>\n",
              "      <td>...</td>\n",
              "      <td>...</td>\n",
              "      <td>...</td>\n",
              "      <td>...</td>\n",
              "      <td>...</td>\n",
              "      <td>...</td>\n",
              "      <td>...</td>\n",
              "      <td>...</td>\n",
              "    </tr>\n",
              "    <tr>\n",
              "      <th>1048526</th>\n",
              "      <td>1</td>\n",
              "      <td>18</td>\n",
              "      <td>2020-02-08</td>\n",
              "      <td>K219</td>\n",
              "      <td>J040</td>\n",
              "      <td>2</td>\n",
              "      <td>4</td>\n",
              "      <td>K219</td>\n",
              "    </tr>\n",
              "    <tr>\n",
              "      <th>1048538</th>\n",
              "      <td>2</td>\n",
              "      <td>18</td>\n",
              "      <td>2020-01-21</td>\n",
              "      <td>J304</td>\n",
              "      <td>J040</td>\n",
              "      <td>1</td>\n",
              "      <td>4</td>\n",
              "      <td>J304</td>\n",
              "    </tr>\n",
              "    <tr>\n",
              "      <th>1048539</th>\n",
              "      <td>2</td>\n",
              "      <td>18</td>\n",
              "      <td>2020-11-20</td>\n",
              "      <td>J304</td>\n",
              "      <td>J040</td>\n",
              "      <td>11</td>\n",
              "      <td>3</td>\n",
              "      <td>J304</td>\n",
              "    </tr>\n",
              "    <tr>\n",
              "      <th>1048550</th>\n",
              "      <td>2</td>\n",
              "      <td>16</td>\n",
              "      <td>2020-03-24</td>\n",
              "      <td>L239</td>\n",
              "      <td>J040</td>\n",
              "      <td>3</td>\n",
              "      <td>1</td>\n",
              "      <td>L239</td>\n",
              "    </tr>\n",
              "    <tr>\n",
              "      <th>1048562</th>\n",
              "      <td>1</td>\n",
              "      <td>14</td>\n",
              "      <td>2020-10-23</td>\n",
              "      <td>J304</td>\n",
              "      <td>J029</td>\n",
              "      <td>10</td>\n",
              "      <td>3</td>\n",
              "      <td>J304</td>\n",
              "    </tr>\n",
              "  </tbody>\n",
              "</table>\n",
              "<p>158133 rows × 8 columns</p>\n",
              "</div>"
            ],
            "text/plain": [
              "         SEX  AGE_GROUP RECU_FR_DT MAIN_SICK SUB_SICK  month  season  main\n",
              "7172       1         14 2020-10-05      J304     K297     10       3  J304\n",
              "7184       1         14 2020-09-25      K219     K297      9       3  K219\n",
              "7193       2         14 2020-09-28      K219     K297      9       3  K219\n",
              "7194       2         14 2020-10-05      K219     K297     10       3  K219\n",
              "7196       1         14 2020-01-09      K210     K297      1       4  K210\n",
              "...      ...        ...        ...       ...      ...    ...     ...   ...\n",
              "1048526    1         18 2020-02-08      K219     J040      2       4  K219\n",
              "1048538    2         18 2020-01-21      J304     J040      1       4  J304\n",
              "1048539    2         18 2020-11-20      J304     J040     11       3  J304\n",
              "1048550    2         16 2020-03-24      L239     J040      3       1  L239\n",
              "1048562    1         14 2020-10-23      J304     J029     10       3  J304\n",
              "\n",
              "[158133 rows x 8 columns]"
            ]
          },
          "execution_count": 7,
          "metadata": {},
          "output_type": "execute_result"
        }
      ],
      "source": [
        "df=da[['SEX','AGE_GROUP','RECU_FR_DT','MAIN_SICK','SUB_SICK','month','season']]\n",
        "\n",
        "df['main']=df['MAIN_SICK'].str.extract(r'(E119|J304|K210|L239|K219|J02.9|J0390|J06.0|J00|J303|K297)')\n",
        "\n",
        "\n",
        "\n",
        "df=df.dropna()\n",
        "#print(dai_drop.info())\n",
        "df.shape\n",
        "print(df['main'].value_counts())\n",
        "df\n",
        "#print(dai['sicki'].value_counts().head(20))\n",
        "#print(dai['sicki'].head(50))\n",
        "#dai_109=dai_drop[ ['SEX','AGE_GROUP','RECU_FR_DT','sicki','month','season']]\n",
        "\n",
        "## I코드에서 I109를 제외한 count 상위 6개의 질병코드 추출\n",
        "#dai=dai[dai['sicki'].str.contains('I739|I110|I119|I209|I639|I839')]\n",
        "\n",
        "#dai['sicki'].value_counts()\n"
      ],
      "id": "390e54c8"
    },
    {
      "cell_type": "code",
      "execution_count": null,
      "metadata": {
        "id": "a6cc9cfe",
        "outputId": "8ee9d54a-33ca-4097-825b-e143fc9344cc",
        "scrolled": true
      },
      "outputs": [
        {
          "data": {
            "text/html": [
              "<div>\n",
              "<style scoped>\n",
              "    .dataframe tbody tr th:only-of-type {\n",
              "        vertical-align: middle;\n",
              "    }\n",
              "\n",
              "    .dataframe tbody tr th {\n",
              "        vertical-align: top;\n",
              "    }\n",
              "\n",
              "    .dataframe thead th {\n",
              "        text-align: right;\n",
              "    }\n",
              "</style>\n",
              "<table border=\"1\" class=\"dataframe\">\n",
              "  <thead>\n",
              "    <tr style=\"text-align: right;\">\n",
              "      <th></th>\n",
              "      <th>SEX</th>\n",
              "      <th>AGE_GROUP</th>\n",
              "      <th>main</th>\n",
              "      <th>SUB_SICK</th>\n",
              "      <th>season</th>\n",
              "    </tr>\n",
              "  </thead>\n",
              "  <tbody>\n",
              "    <tr>\n",
              "      <th>7172</th>\n",
              "      <td>1</td>\n",
              "      <td>14</td>\n",
              "      <td>J304</td>\n",
              "      <td>K297</td>\n",
              "      <td>3</td>\n",
              "    </tr>\n",
              "    <tr>\n",
              "      <th>7184</th>\n",
              "      <td>1</td>\n",
              "      <td>14</td>\n",
              "      <td>K219</td>\n",
              "      <td>K297</td>\n",
              "      <td>3</td>\n",
              "    </tr>\n",
              "    <tr>\n",
              "      <th>7193</th>\n",
              "      <td>2</td>\n",
              "      <td>14</td>\n",
              "      <td>K219</td>\n",
              "      <td>K297</td>\n",
              "      <td>3</td>\n",
              "    </tr>\n",
              "    <tr>\n",
              "      <th>7194</th>\n",
              "      <td>2</td>\n",
              "      <td>14</td>\n",
              "      <td>K219</td>\n",
              "      <td>K297</td>\n",
              "      <td>3</td>\n",
              "    </tr>\n",
              "    <tr>\n",
              "      <th>7196</th>\n",
              "      <td>1</td>\n",
              "      <td>14</td>\n",
              "      <td>K210</td>\n",
              "      <td>K297</td>\n",
              "      <td>4</td>\n",
              "    </tr>\n",
              "    <tr>\n",
              "      <th>...</th>\n",
              "      <td>...</td>\n",
              "      <td>...</td>\n",
              "      <td>...</td>\n",
              "      <td>...</td>\n",
              "      <td>...</td>\n",
              "    </tr>\n",
              "    <tr>\n",
              "      <th>1048526</th>\n",
              "      <td>1</td>\n",
              "      <td>18</td>\n",
              "      <td>K219</td>\n",
              "      <td>J040</td>\n",
              "      <td>4</td>\n",
              "    </tr>\n",
              "    <tr>\n",
              "      <th>1048538</th>\n",
              "      <td>2</td>\n",
              "      <td>18</td>\n",
              "      <td>J304</td>\n",
              "      <td>J040</td>\n",
              "      <td>4</td>\n",
              "    </tr>\n",
              "    <tr>\n",
              "      <th>1048539</th>\n",
              "      <td>2</td>\n",
              "      <td>18</td>\n",
              "      <td>J304</td>\n",
              "      <td>J040</td>\n",
              "      <td>3</td>\n",
              "    </tr>\n",
              "    <tr>\n",
              "      <th>1048550</th>\n",
              "      <td>2</td>\n",
              "      <td>16</td>\n",
              "      <td>L239</td>\n",
              "      <td>J040</td>\n",
              "      <td>1</td>\n",
              "    </tr>\n",
              "    <tr>\n",
              "      <th>1048562</th>\n",
              "      <td>1</td>\n",
              "      <td>14</td>\n",
              "      <td>J304</td>\n",
              "      <td>J029</td>\n",
              "      <td>3</td>\n",
              "    </tr>\n",
              "  </tbody>\n",
              "</table>\n",
              "<p>158133 rows × 5 columns</p>\n",
              "</div>"
            ],
            "text/plain": [
              "         SEX  AGE_GROUP  main SUB_SICK  season\n",
              "7172       1         14  J304     K297       3\n",
              "7184       1         14  K219     K297       3\n",
              "7193       2         14  K219     K297       3\n",
              "7194       2         14  K219     K297       3\n",
              "7196       1         14  K210     K297       4\n",
              "...      ...        ...   ...      ...     ...\n",
              "1048526    1         18  K219     J040       4\n",
              "1048538    2         18  J304     J040       4\n",
              "1048539    2         18  J304     J040       3\n",
              "1048550    2         16  L239     J040       1\n",
              "1048562    1         14  J304     J029       3\n",
              "\n",
              "[158133 rows x 5 columns]"
            ]
          },
          "execution_count": 8,
          "metadata": {},
          "output_type": "execute_result"
        }
      ],
      "source": [
        "df=df[['SEX','AGE_GROUP','main','SUB_SICK','season']]\n",
        "df"
      ],
      "id": "a6cc9cfe"
    },
    {
      "cell_type": "code",
      "execution_count": null,
      "metadata": {
        "id": "c010b2ea",
        "scrolled": true
      },
      "outputs": [],
      "source": [
        "ct=sns.countplot(x='season',hue='main', data=df)"
      ],
      "id": "c010b2ea"
    },
    {
      "cell_type": "markdown",
      "metadata": {
        "id": "a490208e"
      },
      "source": [
        "![image.png](attachment:image.png)"
      ],
      "id": "a490208e"
    },
    {
      "cell_type": "code",
      "execution_count": null,
      "metadata": {
        "id": "6935e34b",
        "outputId": "deb5e6ca-e454-4f00-f73e-380f249ac957"
      },
      "outputs": [
        {
          "name": "stderr",
          "output_type": "stream",
          "text": [
            "<ipython-input-9-9fb963102716>:1: SettingWithCopyWarning: \n",
            "A value is trying to be set on a copy of a slice from a DataFrame.\n",
            "Try using .loc[row_indexer,col_indexer] = value instead\n",
            "\n",
            "See the caveats in the documentation: https://pandas.pydata.org/pandas-docs/stable/user_guide/indexing.html#returning-a-view-versus-a-copy\n",
            "  df['main']=df['main'].astype('category').cat.codes\n",
            "<ipython-input-9-9fb963102716>:2: SettingWithCopyWarning: \n",
            "A value is trying to be set on a copy of a slice from a DataFrame.\n",
            "Try using .loc[row_indexer,col_indexer] = value instead\n",
            "\n",
            "See the caveats in the documentation: https://pandas.pydata.org/pandas-docs/stable/user_guide/indexing.html#returning-a-view-versus-a-copy\n",
            "  df['SUB_SICK']=df['SUB_SICK'].astype('category').cat.codes\n"
          ]
        },
        {
          "data": {
            "text/plain": [
              "478     15161\n",
              "627     14201\n",
              "366     12091\n",
              "621      8192\n",
              "630      6381\n",
              "        ...  \n",
              "1064        1\n",
              "93          1\n",
              "1116        1\n",
              "988         1\n",
              "1407        1\n",
              "Name: SUB_SICK, Length: 1409, dtype: int64"
            ]
          },
          "execution_count": 9,
          "metadata": {},
          "output_type": "execute_result"
        }
      ],
      "source": [
        "df['main']=df['main'].astype('category').cat.codes\n",
        "df['SUB_SICK']=df['SUB_SICK'].astype('category').cat.codes\n",
        "\n",
        "df['main'].value_counts()\n",
        "df['SUB_SICK'].value_counts()"
      ],
      "id": "6935e34b"
    },
    {
      "cell_type": "markdown",
      "metadata": {
        "id": "c2da4486"
      },
      "source": [
        "# corr"
      ],
      "id": "c2da4486"
    },
    {
      "cell_type": "code",
      "execution_count": null,
      "metadata": {
        "id": "ff5d27c4",
        "outputId": "2668a0cb-b3b1-4b8b-d0bc-c028710969b8",
        "scrolled": true
      },
      "outputs": [
        {
          "data": {
            "text/html": [
              "<div>\n",
              "<style scoped>\n",
              "    .dataframe tbody tr th:only-of-type {\n",
              "        vertical-align: middle;\n",
              "    }\n",
              "\n",
              "    .dataframe tbody tr th {\n",
              "        vertical-align: top;\n",
              "    }\n",
              "\n",
              "    .dataframe thead th {\n",
              "        text-align: right;\n",
              "    }\n",
              "</style>\n",
              "<table border=\"1\" class=\"dataframe\">\n",
              "  <thead>\n",
              "    <tr style=\"text-align: right;\">\n",
              "      <th></th>\n",
              "      <th>SEX</th>\n",
              "      <th>AGE_GROUP</th>\n",
              "      <th>main</th>\n",
              "      <th>SUB_SICK</th>\n",
              "      <th>season</th>\n",
              "    </tr>\n",
              "  </thead>\n",
              "  <tbody>\n",
              "    <tr>\n",
              "      <th>SEX</th>\n",
              "      <td>1.000000</td>\n",
              "      <td>0.048642</td>\n",
              "      <td>0.038512</td>\n",
              "      <td>0.021841</td>\n",
              "      <td>0.003907</td>\n",
              "    </tr>\n",
              "    <tr>\n",
              "      <th>AGE_GROUP</th>\n",
              "      <td>0.048642</td>\n",
              "      <td>1.000000</td>\n",
              "      <td>-0.077854</td>\n",
              "      <td>-0.021470</td>\n",
              "      <td>-0.039258</td>\n",
              "    </tr>\n",
              "    <tr>\n",
              "      <th>main</th>\n",
              "      <td>0.038512</td>\n",
              "      <td>-0.077854</td>\n",
              "      <td>1.000000</td>\n",
              "      <td>0.350639</td>\n",
              "      <td>-0.049676</td>\n",
              "    </tr>\n",
              "    <tr>\n",
              "      <th>SUB_SICK</th>\n",
              "      <td>0.021841</td>\n",
              "      <td>-0.021470</td>\n",
              "      <td>0.350639</td>\n",
              "      <td>1.000000</td>\n",
              "      <td>-0.010711</td>\n",
              "    </tr>\n",
              "    <tr>\n",
              "      <th>season</th>\n",
              "      <td>0.003907</td>\n",
              "      <td>-0.039258</td>\n",
              "      <td>-0.049676</td>\n",
              "      <td>-0.010711</td>\n",
              "      <td>1.000000</td>\n",
              "    </tr>\n",
              "  </tbody>\n",
              "</table>\n",
              "</div>"
            ],
            "text/plain": [
              "                SEX  AGE_GROUP      main  SUB_SICK    season\n",
              "SEX        1.000000   0.048642  0.038512  0.021841  0.003907\n",
              "AGE_GROUP  0.048642   1.000000 -0.077854 -0.021470 -0.039258\n",
              "main       0.038512  -0.077854  1.000000  0.350639 -0.049676\n",
              "SUB_SICK   0.021841  -0.021470  0.350639  1.000000 -0.010711\n",
              "season     0.003907  -0.039258 -0.049676 -0.010711  1.000000"
            ]
          },
          "execution_count": 10,
          "metadata": {},
          "output_type": "execute_result"
        }
      ],
      "source": [
        "corr=df.corr(method = 'pearson')\n",
        "corr\n",
        "\n"
      ],
      "id": "ff5d27c4"
    },
    {
      "cell_type": "code",
      "execution_count": null,
      "metadata": {
        "id": "025484fa"
      },
      "outputs": [],
      "source": [
        "fig=plt.figure(figsize = (10,10))\n",
        "ax = fig.gca()\n",
        "\n",
        "sns.set(font_scale=1.5)\n",
        "heatmap = sns.heatmap(corr.values, annot = True, fmt = '.2f', annot_kws={'size':15},\n",
        "                     yticklabels = df, xticklabels = df, ax=ax, cmap='RdYlBu')\n",
        "\n",
        "plt.tight_layout()\n",
        "plt.show()"
      ],
      "id": "025484fa"
    },
    {
      "cell_type": "markdown",
      "metadata": {
        "id": "c4fe631b"
      },
      "source": [
        "# 머리"
      ],
      "id": "c4fe631b"
    },
    {
      "cell_type": "code",
      "execution_count": null,
      "metadata": {
        "id": "d38973de",
        "outputId": "0d7e1f88-f240-46c6-ad90-7792d0967324",
        "scrolled": true
      },
      "outputs": [
        {
          "data": {
            "text/plain": [
              "R42    1957\n",
              "I63    1816\n",
              "I67     502\n",
              "I61     426\n",
              "I65     351\n",
              "I69     314\n",
              "S00     248\n",
              "Name: head, dtype: int64"
            ]
          },
          "execution_count": 11,
          "metadata": {},
          "output_type": "execute_result"
        }
      ],
      "source": [
        "dh=da[['SEX','AGE_GROUP','MAIN_SICK','SUB_SICK','month','season']]\n",
        "\n",
        "\n",
        "dh['head']=dh['MAIN_SICK'].str.extract(r'(R42|I63|I67|I61|I65|I69|S00)')\n",
        "#dh['head']=dh['MAIN_SICK'].str.extract(r'(^A8[3-7]|B69|^C7[0-1]|D32|D33|D42|D43|^I6[0-9]|K72|P10|P12|P52|P91|^Q0[0-4]|^R4[0-2]|R47|R48|R03|^S0[0-9]|T20|T90)')\n",
        "dh['head'].value_counts()\n",
        "\n",
        "dh['head'].isnull().sum()\n",
        "\n",
        "dh=dh.dropna()\n",
        "dh['head'].value_counts()\n"
      ],
      "id": "d38973de"
    },
    {
      "cell_type": "code",
      "execution_count": null,
      "metadata": {
        "id": "074bc5c7",
        "outputId": "9d5ac17e-b28c-46d1-e790-1c12321d4330",
        "scrolled": true
      },
      "outputs": [
        {
          "data": {
            "text/html": [
              "<div>\n",
              "<style scoped>\n",
              "    .dataframe tbody tr th:only-of-type {\n",
              "        vertical-align: middle;\n",
              "    }\n",
              "\n",
              "    .dataframe tbody tr th {\n",
              "        vertical-align: top;\n",
              "    }\n",
              "\n",
              "    .dataframe thead th {\n",
              "        text-align: right;\n",
              "    }\n",
              "</style>\n",
              "<table border=\"1\" class=\"dataframe\">\n",
              "  <thead>\n",
              "    <tr style=\"text-align: right;\">\n",
              "      <th></th>\n",
              "      <th>SEX</th>\n",
              "      <th>AGE_GROUP</th>\n",
              "      <th>SUB_SICK</th>\n",
              "      <th>month</th>\n",
              "      <th>season</th>\n",
              "      <th>head</th>\n",
              "    </tr>\n",
              "  </thead>\n",
              "  <tbody>\n",
              "    <tr>\n",
              "      <th>SEX</th>\n",
              "      <td>1.000000</td>\n",
              "      <td>-0.105262</td>\n",
              "      <td>0.055545</td>\n",
              "      <td>-0.012601</td>\n",
              "      <td>-0.004449</td>\n",
              "      <td>0.045801</td>\n",
              "    </tr>\n",
              "    <tr>\n",
              "      <th>AGE_GROUP</th>\n",
              "      <td>-0.105262</td>\n",
              "      <td>1.000000</td>\n",
              "      <td>-0.364129</td>\n",
              "      <td>-0.010223</td>\n",
              "      <td>0.008859</td>\n",
              "      <td>-0.098006</td>\n",
              "    </tr>\n",
              "    <tr>\n",
              "      <th>SUB_SICK</th>\n",
              "      <td>0.055545</td>\n",
              "      <td>-0.364129</td>\n",
              "      <td>1.000000</td>\n",
              "      <td>0.021311</td>\n",
              "      <td>0.017594</td>\n",
              "      <td>0.090550</td>\n",
              "    </tr>\n",
              "    <tr>\n",
              "      <th>month</th>\n",
              "      <td>-0.012601</td>\n",
              "      <td>-0.010223</td>\n",
              "      <td>0.021311</td>\n",
              "      <td>1.000000</td>\n",
              "      <td>0.224174</td>\n",
              "      <td>0.014839</td>\n",
              "    </tr>\n",
              "    <tr>\n",
              "      <th>season</th>\n",
              "      <td>-0.004449</td>\n",
              "      <td>0.008859</td>\n",
              "      <td>0.017594</td>\n",
              "      <td>0.224174</td>\n",
              "      <td>1.000000</td>\n",
              "      <td>0.008112</td>\n",
              "    </tr>\n",
              "    <tr>\n",
              "      <th>head</th>\n",
              "      <td>0.045801</td>\n",
              "      <td>-0.098006</td>\n",
              "      <td>0.090550</td>\n",
              "      <td>0.014839</td>\n",
              "      <td>0.008112</td>\n",
              "      <td>1.000000</td>\n",
              "    </tr>\n",
              "  </tbody>\n",
              "</table>\n",
              "</div>"
            ],
            "text/plain": [
              "                SEX  AGE_GROUP  SUB_SICK     month    season      head\n",
              "SEX        1.000000  -0.105262  0.055545 -0.012601 -0.004449  0.045801\n",
              "AGE_GROUP -0.105262   1.000000 -0.364129 -0.010223  0.008859 -0.098006\n",
              "SUB_SICK   0.055545  -0.364129  1.000000  0.021311  0.017594  0.090550\n",
              "month     -0.012601  -0.010223  0.021311  1.000000  0.224174  0.014839\n",
              "season    -0.004449   0.008859  0.017594  0.224174  1.000000  0.008112\n",
              "head       0.045801  -0.098006  0.090550  0.014839  0.008112  1.000000"
            ]
          },
          "execution_count": 12,
          "metadata": {},
          "output_type": "execute_result"
        }
      ],
      "source": [
        "dh['head']=dh['head'].astype('category').cat.codes\n",
        "dh['SUB_SICK']=dh['SUB_SICK'].astype('category').cat.codes\n",
        "corr=dh.corr(method = 'pearson')\n",
        "corr"
      ],
      "id": "074bc5c7"
    },
    {
      "cell_type": "markdown",
      "metadata": {
        "id": "5f8a12e8"
      },
      "source": [
        "\n",
        "## mind"
      ],
      "id": "5f8a12e8"
    },
    {
      "cell_type": "code",
      "execution_count": null,
      "metadata": {
        "id": "5c20f154",
        "outputId": "bc803ec3-a694-4a66-b281-0b9dee359f02",
        "scrolled": false
      },
      "outputs": [
        {
          "data": {
            "text/html": [
              "<div>\n",
              "<style scoped>\n",
              "    .dataframe tbody tr th:only-of-type {\n",
              "        vertical-align: middle;\n",
              "    }\n",
              "\n",
              "    .dataframe tbody tr th {\n",
              "        vertical-align: top;\n",
              "    }\n",
              "\n",
              "    .dataframe thead th {\n",
              "        text-align: right;\n",
              "    }\n",
              "</style>\n",
              "<table border=\"1\" class=\"dataframe\">\n",
              "  <thead>\n",
              "    <tr style=\"text-align: right;\">\n",
              "      <th></th>\n",
              "      <th>SEX</th>\n",
              "      <th>AGE_GROUP</th>\n",
              "      <th>SUB_SICK</th>\n",
              "      <th>month</th>\n",
              "      <th>season</th>\n",
              "      <th>mind</th>\n",
              "    </tr>\n",
              "  </thead>\n",
              "  <tbody>\n",
              "    <tr>\n",
              "      <th>SEX</th>\n",
              "      <td>1.000000</td>\n",
              "      <td>0.064268</td>\n",
              "      <td>-0.005073</td>\n",
              "      <td>-0.001985</td>\n",
              "      <td>0.002226</td>\n",
              "      <td>0.021882</td>\n",
              "    </tr>\n",
              "    <tr>\n",
              "      <th>AGE_GROUP</th>\n",
              "      <td>0.064268</td>\n",
              "      <td>1.000000</td>\n",
              "      <td>0.002998</td>\n",
              "      <td>0.010832</td>\n",
              "      <td>-0.053508</td>\n",
              "      <td>0.065758</td>\n",
              "    </tr>\n",
              "    <tr>\n",
              "      <th>SUB_SICK</th>\n",
              "      <td>-0.005073</td>\n",
              "      <td>0.002998</td>\n",
              "      <td>1.000000</td>\n",
              "      <td>0.005744</td>\n",
              "      <td>-0.007190</td>\n",
              "      <td>-0.038932</td>\n",
              "    </tr>\n",
              "    <tr>\n",
              "      <th>month</th>\n",
              "      <td>-0.001985</td>\n",
              "      <td>0.010832</td>\n",
              "      <td>0.005744</td>\n",
              "      <td>1.000000</td>\n",
              "      <td>0.096820</td>\n",
              "      <td>0.007413</td>\n",
              "    </tr>\n",
              "    <tr>\n",
              "      <th>season</th>\n",
              "      <td>0.002226</td>\n",
              "      <td>-0.053508</td>\n",
              "      <td>-0.007190</td>\n",
              "      <td>0.096820</td>\n",
              "      <td>1.000000</td>\n",
              "      <td>-0.007831</td>\n",
              "    </tr>\n",
              "    <tr>\n",
              "      <th>mind</th>\n",
              "      <td>0.021882</td>\n",
              "      <td>0.065758</td>\n",
              "      <td>-0.038932</td>\n",
              "      <td>0.007413</td>\n",
              "      <td>-0.007831</td>\n",
              "      <td>1.000000</td>\n",
              "    </tr>\n",
              "  </tbody>\n",
              "</table>\n",
              "</div>"
            ],
            "text/plain": [
              "                SEX  AGE_GROUP  SUB_SICK     month    season      mind\n",
              "SEX        1.000000   0.064268 -0.005073 -0.001985  0.002226  0.021882\n",
              "AGE_GROUP  0.064268   1.000000  0.002998  0.010832 -0.053508  0.065758\n",
              "SUB_SICK  -0.005073   0.002998  1.000000  0.005744 -0.007190 -0.038932\n",
              "month     -0.001985   0.010832  0.005744  1.000000  0.096820  0.007413\n",
              "season     0.002226  -0.053508 -0.007190  0.096820  1.000000 -0.007831\n",
              "mind       0.021882   0.065758 -0.038932  0.007413 -0.007831  1.000000"
            ]
          },
          "execution_count": 13,
          "metadata": {},
          "output_type": "execute_result"
        }
      ],
      "source": [
        "dm=da[['SEX','AGE_GROUP','MAIN_SICK','SUB_SICK','month','season']]\n",
        "\n",
        "\n",
        "dm['mind']=dm['MAIN_SICK'].str.extract(r'(F*)')\n",
        "dm['mind'].value_counts()\n",
        "\n",
        "\n",
        "dm['mind']=dm['mind'].astype('category').cat.codes\n",
        "dm['SUB_SICK']=dm['SUB_SICK'].astype('category').cat.codes\n",
        "corr=dm.corr(method = 'pearson')\n",
        "corr"
      ],
      "id": "5c20f154"
    },
    {
      "cell_type": "markdown",
      "metadata": {
        "id": "238b3c71"
      },
      "source": [
        "# face"
      ],
      "id": "238b3c71"
    },
    {
      "cell_type": "code",
      "execution_count": null,
      "metadata": {
        "id": "cd9359f1",
        "outputId": "05961afb-be9f-4209-bc57-614a8cdd0aeb"
      },
      "outputs": [
        {
          "data": {
            "text/html": [
              "<div>\n",
              "<style scoped>\n",
              "    .dataframe tbody tr th:only-of-type {\n",
              "        vertical-align: middle;\n",
              "    }\n",
              "\n",
              "    .dataframe tbody tr th {\n",
              "        vertical-align: top;\n",
              "    }\n",
              "\n",
              "    .dataframe thead th {\n",
              "        text-align: right;\n",
              "    }\n",
              "</style>\n",
              "<table border=\"1\" class=\"dataframe\">\n",
              "  <thead>\n",
              "    <tr style=\"text-align: right;\">\n",
              "      <th></th>\n",
              "      <th>SEX</th>\n",
              "      <th>AGE_GROUP</th>\n",
              "      <th>SUB_SICK</th>\n",
              "      <th>month</th>\n",
              "      <th>season</th>\n",
              "      <th>face</th>\n",
              "    </tr>\n",
              "  </thead>\n",
              "  <tbody>\n",
              "    <tr>\n",
              "      <th>SEX</th>\n",
              "      <td>1.000000</td>\n",
              "      <td>0.064268</td>\n",
              "      <td>-0.005073</td>\n",
              "      <td>-0.001985</td>\n",
              "      <td>0.002226</td>\n",
              "      <td>0.009842</td>\n",
              "    </tr>\n",
              "    <tr>\n",
              "      <th>AGE_GROUP</th>\n",
              "      <td>0.064268</td>\n",
              "      <td>1.000000</td>\n",
              "      <td>0.002998</td>\n",
              "      <td>0.010832</td>\n",
              "      <td>-0.053508</td>\n",
              "      <td>-0.008502</td>\n",
              "    </tr>\n",
              "    <tr>\n",
              "      <th>SUB_SICK</th>\n",
              "      <td>-0.005073</td>\n",
              "      <td>0.002998</td>\n",
              "      <td>1.000000</td>\n",
              "      <td>0.005744</td>\n",
              "      <td>-0.007190</td>\n",
              "      <td>0.017814</td>\n",
              "    </tr>\n",
              "    <tr>\n",
              "      <th>month</th>\n",
              "      <td>-0.001985</td>\n",
              "      <td>0.010832</td>\n",
              "      <td>0.005744</td>\n",
              "      <td>1.000000</td>\n",
              "      <td>0.096820</td>\n",
              "      <td>0.005588</td>\n",
              "    </tr>\n",
              "    <tr>\n",
              "      <th>season</th>\n",
              "      <td>0.002226</td>\n",
              "      <td>-0.053508</td>\n",
              "      <td>-0.007190</td>\n",
              "      <td>0.096820</td>\n",
              "      <td>1.000000</td>\n",
              "      <td>-0.001851</td>\n",
              "    </tr>\n",
              "    <tr>\n",
              "      <th>face</th>\n",
              "      <td>0.009842</td>\n",
              "      <td>-0.008502</td>\n",
              "      <td>0.017814</td>\n",
              "      <td>0.005588</td>\n",
              "      <td>-0.001851</td>\n",
              "      <td>1.000000</td>\n",
              "    </tr>\n",
              "  </tbody>\n",
              "</table>\n",
              "</div>"
            ],
            "text/plain": [
              "                SEX  AGE_GROUP  SUB_SICK     month    season      face\n",
              "SEX        1.000000   0.064268 -0.005073 -0.001985  0.002226  0.009842\n",
              "AGE_GROUP  0.064268   1.000000  0.002998  0.010832 -0.053508 -0.008502\n",
              "SUB_SICK  -0.005073   0.002998  1.000000  0.005744 -0.007190  0.017814\n",
              "month     -0.001985   0.010832  0.005744  1.000000  0.096820  0.005588\n",
              "season     0.002226  -0.053508 -0.007190  0.096820  1.000000 -0.001851\n",
              "face       0.009842  -0.008502  0.017814  0.005588 -0.001851  1.000000"
            ]
          },
          "execution_count": 14,
          "metadata": {},
          "output_type": "execute_result"
        }
      ],
      "source": [
        "df=da[['SEX','AGE_GROUP','MAIN_SICK','SUB_SICK','month','season']]\n",
        "\n",
        "\n",
        "df['face']=df['MAIN_SICK'].str.extract(r'(C41|R51|T20)')\n",
        "df['face'].value_counts()\n",
        "\n",
        "df['face']=df['face'].astype('category').cat.codes\n",
        "df['SUB_SICK']=df['SUB_SICK'].astype('category').cat.codes\n",
        "corr=df.corr(method = 'pearson')\n",
        "corr"
      ],
      "id": "cd9359f1"
    },
    {
      "cell_type": "markdown",
      "metadata": {
        "id": "3714bf59"
      },
      "source": [
        "# eye"
      ],
      "id": "3714bf59"
    },
    {
      "cell_type": "code",
      "execution_count": null,
      "metadata": {
        "id": "45dd6f83",
        "outputId": "c2d714ee-8e88-46fc-c127-e7658470a225"
      },
      "outputs": [
        {
          "name": "stdout",
          "output_type": "stream",
          "text": [
            "H10      4807\n",
            "H25      2720\n",
            "H0411    2692\n",
            "H16      1892\n",
            "H010      557\n",
            "H100      207\n",
            "H1000      35\n",
            "Name: eye, dtype: int64\n"
          ]
        },
        {
          "data": {
            "text/html": [
              "<div>\n",
              "<style scoped>\n",
              "    .dataframe tbody tr th:only-of-type {\n",
              "        vertical-align: middle;\n",
              "    }\n",
              "\n",
              "    .dataframe tbody tr th {\n",
              "        vertical-align: top;\n",
              "    }\n",
              "\n",
              "    .dataframe thead th {\n",
              "        text-align: right;\n",
              "    }\n",
              "</style>\n",
              "<table border=\"1\" class=\"dataframe\">\n",
              "  <thead>\n",
              "    <tr style=\"text-align: right;\">\n",
              "      <th></th>\n",
              "      <th>SEX</th>\n",
              "      <th>AGE_GROUP</th>\n",
              "      <th>SUB_SICK</th>\n",
              "      <th>month</th>\n",
              "      <th>season</th>\n",
              "      <th>eye</th>\n",
              "    </tr>\n",
              "  </thead>\n",
              "  <tbody>\n",
              "    <tr>\n",
              "      <th>SEX</th>\n",
              "      <td>1.000000</td>\n",
              "      <td>0.064268</td>\n",
              "      <td>-0.005073</td>\n",
              "      <td>-0.001985</td>\n",
              "      <td>0.002226</td>\n",
              "      <td>0.012720</td>\n",
              "    </tr>\n",
              "    <tr>\n",
              "      <th>AGE_GROUP</th>\n",
              "      <td>0.064268</td>\n",
              "      <td>1.000000</td>\n",
              "      <td>0.002998</td>\n",
              "      <td>0.010832</td>\n",
              "      <td>-0.053508</td>\n",
              "      <td>0.050098</td>\n",
              "    </tr>\n",
              "    <tr>\n",
              "      <th>SUB_SICK</th>\n",
              "      <td>-0.005073</td>\n",
              "      <td>0.002998</td>\n",
              "      <td>1.000000</td>\n",
              "      <td>0.005744</td>\n",
              "      <td>-0.007190</td>\n",
              "      <td>-0.066546</td>\n",
              "    </tr>\n",
              "    <tr>\n",
              "      <th>month</th>\n",
              "      <td>-0.001985</td>\n",
              "      <td>0.010832</td>\n",
              "      <td>0.005744</td>\n",
              "      <td>1.000000</td>\n",
              "      <td>0.096820</td>\n",
              "      <td>0.002301</td>\n",
              "    </tr>\n",
              "    <tr>\n",
              "      <th>season</th>\n",
              "      <td>0.002226</td>\n",
              "      <td>-0.053508</td>\n",
              "      <td>-0.007190</td>\n",
              "      <td>0.096820</td>\n",
              "      <td>1.000000</td>\n",
              "      <td>-0.009644</td>\n",
              "    </tr>\n",
              "    <tr>\n",
              "      <th>eye</th>\n",
              "      <td>0.012720</td>\n",
              "      <td>0.050098</td>\n",
              "      <td>-0.066546</td>\n",
              "      <td>0.002301</td>\n",
              "      <td>-0.009644</td>\n",
              "      <td>1.000000</td>\n",
              "    </tr>\n",
              "  </tbody>\n",
              "</table>\n",
              "</div>"
            ],
            "text/plain": [
              "                SEX  AGE_GROUP  SUB_SICK     month    season       eye\n",
              "SEX        1.000000   0.064268 -0.005073 -0.001985  0.002226  0.012720\n",
              "AGE_GROUP  0.064268   1.000000  0.002998  0.010832 -0.053508  0.050098\n",
              "SUB_SICK  -0.005073   0.002998  1.000000  0.005744 -0.007190 -0.066546\n",
              "month     -0.001985   0.010832  0.005744  1.000000  0.096820  0.002301\n",
              "season     0.002226  -0.053508 -0.007190  0.096820  1.000000 -0.009644\n",
              "eye        0.012720   0.050098 -0.066546  0.002301 -0.009644  1.000000"
            ]
          },
          "execution_count": 15,
          "metadata": {},
          "output_type": "execute_result"
        }
      ],
      "source": [
        "de=da[['SEX','AGE_GROUP','MAIN_SICK','SUB_SICK','month','season']]\n",
        "\n",
        "de['eye']=de['MAIN_SICK'].str.extract(r'(H10+|H0411|H25+|H16+|H258|H010)')\n",
        "\n",
        "#de['eye']=de['MAIN_SICK'].str.extract(r'(B30|C69|D31|H0[0-6]+|H10|H11|H1[3-9]+|H2[0-2]+|H2[5-8]+|H49|H5[0-5]+|H5[7-9]+|Q1[0-5]+|R52|S05|T15|T20|T26|W44|Y77)')\n",
        "print(de['eye'].value_counts().head(10))\n",
        "\n",
        "de['eye']=de['eye'].astype('category').cat.codes\n",
        "de['SUB_SICK']=de['SUB_SICK'].astype('category').cat.codes\n",
        "corr=de.corr(method = 'pearson')\n",
        "corr"
      ],
      "id": "45dd6f83"
    },
    {
      "cell_type": "markdown",
      "metadata": {
        "id": "d59d8b0a"
      },
      "source": [
        "# nose"
      ],
      "id": "d59d8b0a"
    },
    {
      "cell_type": "code",
      "execution_count": null,
      "metadata": {
        "id": "c38835b2",
        "outputId": "d66d0a51-152c-4437-82fb-9a0ae81b6eb8"
      },
      "outputs": [
        {
          "name": "stdout",
          "output_type": "stream",
          "text": [
            "J304    22956\n",
            "J01     16941\n",
            "J00     12081\n",
            "J303    11814\n",
            "Name: nose, dtype: int64\n"
          ]
        },
        {
          "data": {
            "text/html": [
              "<div>\n",
              "<style scoped>\n",
              "    .dataframe tbody tr th:only-of-type {\n",
              "        vertical-align: middle;\n",
              "    }\n",
              "\n",
              "    .dataframe tbody tr th {\n",
              "        vertical-align: top;\n",
              "    }\n",
              "\n",
              "    .dataframe thead th {\n",
              "        text-align: right;\n",
              "    }\n",
              "</style>\n",
              "<table border=\"1\" class=\"dataframe\">\n",
              "  <thead>\n",
              "    <tr style=\"text-align: right;\">\n",
              "      <th></th>\n",
              "      <th>SEX</th>\n",
              "      <th>AGE_GROUP</th>\n",
              "      <th>SUB_SICK</th>\n",
              "      <th>month</th>\n",
              "      <th>season</th>\n",
              "      <th>nose</th>\n",
              "    </tr>\n",
              "  </thead>\n",
              "  <tbody>\n",
              "    <tr>\n",
              "      <th>SEX</th>\n",
              "      <td>1.000000</td>\n",
              "      <td>0.064268</td>\n",
              "      <td>-0.005073</td>\n",
              "      <td>-0.001985</td>\n",
              "      <td>0.002226</td>\n",
              "      <td>-0.021824</td>\n",
              "    </tr>\n",
              "    <tr>\n",
              "      <th>AGE_GROUP</th>\n",
              "      <td>0.064268</td>\n",
              "      <td>1.000000</td>\n",
              "      <td>0.002998</td>\n",
              "      <td>0.010832</td>\n",
              "      <td>-0.053508</td>\n",
              "      <td>-0.200186</td>\n",
              "    </tr>\n",
              "    <tr>\n",
              "      <th>SUB_SICK</th>\n",
              "      <td>-0.005073</td>\n",
              "      <td>0.002998</td>\n",
              "      <td>1.000000</td>\n",
              "      <td>0.005744</td>\n",
              "      <td>-0.007190</td>\n",
              "      <td>-0.028108</td>\n",
              "    </tr>\n",
              "    <tr>\n",
              "      <th>month</th>\n",
              "      <td>-0.001985</td>\n",
              "      <td>0.010832</td>\n",
              "      <td>0.005744</td>\n",
              "      <td>1.000000</td>\n",
              "      <td>0.096820</td>\n",
              "      <td>-0.005462</td>\n",
              "    </tr>\n",
              "    <tr>\n",
              "      <th>season</th>\n",
              "      <td>0.002226</td>\n",
              "      <td>-0.053508</td>\n",
              "      <td>-0.007190</td>\n",
              "      <td>0.096820</td>\n",
              "      <td>1.000000</td>\n",
              "      <td>0.029192</td>\n",
              "    </tr>\n",
              "    <tr>\n",
              "      <th>nose</th>\n",
              "      <td>-0.021824</td>\n",
              "      <td>-0.200186</td>\n",
              "      <td>-0.028108</td>\n",
              "      <td>-0.005462</td>\n",
              "      <td>0.029192</td>\n",
              "      <td>1.000000</td>\n",
              "    </tr>\n",
              "  </tbody>\n",
              "</table>\n",
              "</div>"
            ],
            "text/plain": [
              "                SEX  AGE_GROUP  SUB_SICK     month    season      nose\n",
              "SEX        1.000000   0.064268 -0.005073 -0.001985  0.002226 -0.021824\n",
              "AGE_GROUP  0.064268   1.000000  0.002998  0.010832 -0.053508 -0.200186\n",
              "SUB_SICK  -0.005073   0.002998  1.000000  0.005744 -0.007190 -0.028108\n",
              "month     -0.001985   0.010832  0.005744  1.000000  0.096820 -0.005462\n",
              "season     0.002226  -0.053508 -0.007190  0.096820  1.000000  0.029192\n",
              "nose      -0.021824  -0.200186 -0.028108 -0.005462  0.029192  1.000000"
            ]
          },
          "execution_count": 16,
          "metadata": {},
          "output_type": "execute_result"
        }
      ],
      "source": [
        "dn=da[['SEX','AGE_GROUP','MAIN_SICK','SUB_SICK','month','season']]\n",
        "\n",
        "#dn['nose']=dn['MAIN_SICK'].str.extract(r'(C07+|C11+|C12+|C30+|C31+|C33+|D14+|H60+|H61+|H62+|H6[5-9]+|H7[0-5]+|H8[0-3]+|H9[0-5]+|J00|J01|J3[0-4]+)')\n",
        "dn['nose']=dn['MAIN_SICK'].str.extract(r'(J304|J01|J00|J303)')\n",
        "\n",
        "print(dn['nose'].value_counts().head(10))\n",
        "\n",
        "dn['nose']=dn['nose'].astype('category').cat.codes\n",
        "dn['SUB_SICK']=de['SUB_SICK'].astype('category').cat.codes\n",
        "corr=dn.corr(method = 'pearson')\n",
        "corr"
      ],
      "id": "c38835b2"
    },
    {
      "cell_type": "markdown",
      "metadata": {
        "id": "fca6dd41"
      },
      "source": [
        "# teeth"
      ],
      "id": "fca6dd41"
    },
    {
      "cell_type": "code",
      "execution_count": null,
      "metadata": {
        "id": "51a2d4d7",
        "outputId": "5974e5e9-a75d-43da-c5f2-cae85fe0267b",
        "scrolled": true
      },
      "outputs": [
        {
          "name": "stdout",
          "output_type": "stream",
          "text": [
            "R52     446\n",
            "K052    214\n",
            "K050    157\n",
            "Name: teeth, dtype: int64\n"
          ]
        },
        {
          "data": {
            "text/html": [
              "<div>\n",
              "<style scoped>\n",
              "    .dataframe tbody tr th:only-of-type {\n",
              "        vertical-align: middle;\n",
              "    }\n",
              "\n",
              "    .dataframe tbody tr th {\n",
              "        vertical-align: top;\n",
              "    }\n",
              "\n",
              "    .dataframe thead th {\n",
              "        text-align: right;\n",
              "    }\n",
              "</style>\n",
              "<table border=\"1\" class=\"dataframe\">\n",
              "  <thead>\n",
              "    <tr style=\"text-align: right;\">\n",
              "      <th></th>\n",
              "      <th>SEX</th>\n",
              "      <th>AGE_GROUP</th>\n",
              "      <th>SUB_SICK</th>\n",
              "      <th>month</th>\n",
              "      <th>season</th>\n",
              "      <th>teeth</th>\n",
              "    </tr>\n",
              "  </thead>\n",
              "  <tbody>\n",
              "    <tr>\n",
              "      <th>SEX</th>\n",
              "      <td>1.000000</td>\n",
              "      <td>0.064268</td>\n",
              "      <td>-0.005073</td>\n",
              "      <td>-0.001985</td>\n",
              "      <td>0.002226</td>\n",
              "      <td>0.003116</td>\n",
              "    </tr>\n",
              "    <tr>\n",
              "      <th>AGE_GROUP</th>\n",
              "      <td>0.064268</td>\n",
              "      <td>1.000000</td>\n",
              "      <td>0.002998</td>\n",
              "      <td>0.010832</td>\n",
              "      <td>-0.053508</td>\n",
              "      <td>0.003403</td>\n",
              "    </tr>\n",
              "    <tr>\n",
              "      <th>SUB_SICK</th>\n",
              "      <td>-0.005073</td>\n",
              "      <td>0.002998</td>\n",
              "      <td>1.000000</td>\n",
              "      <td>0.005744</td>\n",
              "      <td>-0.007190</td>\n",
              "      <td>0.005722</td>\n",
              "    </tr>\n",
              "    <tr>\n",
              "      <th>month</th>\n",
              "      <td>-0.001985</td>\n",
              "      <td>0.010832</td>\n",
              "      <td>0.005744</td>\n",
              "      <td>1.000000</td>\n",
              "      <td>0.096820</td>\n",
              "      <td>-0.000901</td>\n",
              "    </tr>\n",
              "    <tr>\n",
              "      <th>season</th>\n",
              "      <td>0.002226</td>\n",
              "      <td>-0.053508</td>\n",
              "      <td>-0.007190</td>\n",
              "      <td>0.096820</td>\n",
              "      <td>1.000000</td>\n",
              "      <td>0.002692</td>\n",
              "    </tr>\n",
              "    <tr>\n",
              "      <th>teeth</th>\n",
              "      <td>0.003116</td>\n",
              "      <td>0.003403</td>\n",
              "      <td>0.005722</td>\n",
              "      <td>-0.000901</td>\n",
              "      <td>0.002692</td>\n",
              "      <td>1.000000</td>\n",
              "    </tr>\n",
              "  </tbody>\n",
              "</table>\n",
              "</div>"
            ],
            "text/plain": [
              "                SEX  AGE_GROUP  SUB_SICK     month    season     teeth\n",
              "SEX        1.000000   0.064268 -0.005073 -0.001985  0.002226  0.003116\n",
              "AGE_GROUP  0.064268   1.000000  0.002998  0.010832 -0.053508  0.003403\n",
              "SUB_SICK  -0.005073   0.002998  1.000000  0.005744 -0.007190  0.005722\n",
              "month     -0.001985   0.010832  0.005744  1.000000  0.096820 -0.000901\n",
              "season     0.002226  -0.053508 -0.007190  0.096820  1.000000  0.002692\n",
              "teeth      0.003116   0.003403  0.005722 -0.000901  0.002692  1.000000"
            ]
          },
          "execution_count": 17,
          "metadata": {},
          "output_type": "execute_result"
        }
      ],
      "source": [
        "dt=da[['SEX','AGE_GROUP','MAIN_SICK','SUB_SICK','month','season']]\n",
        "\n",
        "#dt['teeth']=dt['MAIN_SICK'].str.extract(r'(K0[0-8]+|R52+|W94+)')\n",
        "dt['teeth']=dt['MAIN_SICK'].str.extract(r'(R52|K052|K050)')\n",
        "print(dt['teeth'].value_counts().head(10))\n",
        "\n",
        "dt['teeth']=dt['teeth'].astype('category').cat.codes\n",
        "dt['SUB_SICK']=dt['SUB_SICK'].astype('category').cat.codes\n",
        "corr=dt.corr(method = 'pearson')\n",
        "corr"
      ],
      "id": "51a2d4d7"
    },
    {
      "cell_type": "markdown",
      "metadata": {
        "id": "5fab60a8"
      },
      "source": [
        "# oral"
      ],
      "id": "5fab60a8"
    },
    {
      "cell_type": "code",
      "execution_count": null,
      "metadata": {
        "id": "d08a4c93",
        "outputId": "046422c9-31b2-4ee2-d80e-de51dd898182"
      },
      "outputs": [
        {
          "name": "stdout",
          "output_type": "stream",
          "text": [
            "R52     446\n",
            "K052    214\n",
            "K050    157\n",
            "Name: oral, dtype: int64\n"
          ]
        },
        {
          "data": {
            "text/html": [
              "<div>\n",
              "<style scoped>\n",
              "    .dataframe tbody tr th:only-of-type {\n",
              "        vertical-align: middle;\n",
              "    }\n",
              "\n",
              "    .dataframe tbody tr th {\n",
              "        vertical-align: top;\n",
              "    }\n",
              "\n",
              "    .dataframe thead th {\n",
              "        text-align: right;\n",
              "    }\n",
              "</style>\n",
              "<table border=\"1\" class=\"dataframe\">\n",
              "  <thead>\n",
              "    <tr style=\"text-align: right;\">\n",
              "      <th></th>\n",
              "      <th>SEX</th>\n",
              "      <th>AGE_GROUP</th>\n",
              "      <th>SUB_SICK</th>\n",
              "      <th>month</th>\n",
              "      <th>season</th>\n",
              "      <th>oral</th>\n",
              "    </tr>\n",
              "  </thead>\n",
              "  <tbody>\n",
              "    <tr>\n",
              "      <th>SEX</th>\n",
              "      <td>1.000000</td>\n",
              "      <td>0.064268</td>\n",
              "      <td>-0.005073</td>\n",
              "      <td>-0.001985</td>\n",
              "      <td>0.002226</td>\n",
              "      <td>0.003116</td>\n",
              "    </tr>\n",
              "    <tr>\n",
              "      <th>AGE_GROUP</th>\n",
              "      <td>0.064268</td>\n",
              "      <td>1.000000</td>\n",
              "      <td>0.002998</td>\n",
              "      <td>0.010832</td>\n",
              "      <td>-0.053508</td>\n",
              "      <td>0.003403</td>\n",
              "    </tr>\n",
              "    <tr>\n",
              "      <th>SUB_SICK</th>\n",
              "      <td>-0.005073</td>\n",
              "      <td>0.002998</td>\n",
              "      <td>1.000000</td>\n",
              "      <td>0.005744</td>\n",
              "      <td>-0.007190</td>\n",
              "      <td>0.005722</td>\n",
              "    </tr>\n",
              "    <tr>\n",
              "      <th>month</th>\n",
              "      <td>-0.001985</td>\n",
              "      <td>0.010832</td>\n",
              "      <td>0.005744</td>\n",
              "      <td>1.000000</td>\n",
              "      <td>0.096820</td>\n",
              "      <td>-0.000901</td>\n",
              "    </tr>\n",
              "    <tr>\n",
              "      <th>season</th>\n",
              "      <td>0.002226</td>\n",
              "      <td>-0.053508</td>\n",
              "      <td>-0.007190</td>\n",
              "      <td>0.096820</td>\n",
              "      <td>1.000000</td>\n",
              "      <td>0.002692</td>\n",
              "    </tr>\n",
              "    <tr>\n",
              "      <th>oral</th>\n",
              "      <td>0.003116</td>\n",
              "      <td>0.003403</td>\n",
              "      <td>0.005722</td>\n",
              "      <td>-0.000901</td>\n",
              "      <td>0.002692</td>\n",
              "      <td>1.000000</td>\n",
              "    </tr>\n",
              "  </tbody>\n",
              "</table>\n",
              "</div>"
            ],
            "text/plain": [
              "                SEX  AGE_GROUP  SUB_SICK     month    season      oral\n",
              "SEX        1.000000   0.064268 -0.005073 -0.001985  0.002226  0.003116\n",
              "AGE_GROUP  0.064268   1.000000  0.002998  0.010832 -0.053508  0.003403\n",
              "SUB_SICK  -0.005073   0.002998  1.000000  0.005744 -0.007190  0.005722\n",
              "month     -0.001985   0.010832  0.005744  1.000000  0.096820 -0.000901\n",
              "season     0.002226  -0.053508 -0.007190  0.096820  1.000000  0.002692\n",
              "oral       0.003116   0.003403  0.005722 -0.000901  0.002692  1.000000"
            ]
          },
          "execution_count": 18,
          "metadata": {},
          "output_type": "execute_result"
        }
      ],
      "source": [
        "do=da[['SEX','AGE_GROUP','MAIN_SICK','SUB_SICK','month','season']]\n",
        "\n",
        "do['oral']=do['MAIN_SICK'].str.extract(r'(C0[0-9]+|C10+|C14+|D00+|D10+|K09+|K1[0-4]+|Q3[5-7]+|R52+|R85+|T20+)')\n",
        "do['oral']=do['MAIN_SICK'].str.extract(r'(R52|K052|K050)')\n",
        "print(do['oral'].value_counts().head(10))\n",
        "\n",
        "do['oral']=do['oral'].astype('category').cat.codes\n",
        "do['SUB_SICK']=do['SUB_SICK'].astype('category').cat.codes\n",
        "corr=do.corr(method = 'pearson')\n",
        "corr"
      ],
      "id": "d08a4c93"
    },
    {
      "cell_type": "markdown",
      "metadata": {
        "id": "6c8f8539"
      },
      "source": [
        "# total"
      ],
      "id": "6c8f8539"
    },
    {
      "cell_type": "code",
      "execution_count": null,
      "metadata": {
        "id": "fc13677d",
        "outputId": "b459a8af-264f-49a2-c1f0-002145193436",
        "scrolled": true
      },
      "outputs": [
        {
          "name": "stdout",
          "output_type": "stream",
          "text": [
            "J304     22956\n",
            "J01      16941\n",
            "J00      12081\n",
            "J303     11814\n",
            "H10       4807\n",
            "H25       2720\n",
            "H0411     2692\n",
            "R51       2066\n",
            "H100       207\n",
            "H041       138\n",
            "H1000       35\n",
            "Name: main, dtype: int64\n"
          ]
        },
        {
          "data": {
            "text/html": [
              "<div>\n",
              "<style scoped>\n",
              "    .dataframe tbody tr th:only-of-type {\n",
              "        vertical-align: middle;\n",
              "    }\n",
              "\n",
              "    .dataframe tbody tr th {\n",
              "        vertical-align: top;\n",
              "    }\n",
              "\n",
              "    .dataframe thead th {\n",
              "        text-align: right;\n",
              "    }\n",
              "</style>\n",
              "<table border=\"1\" class=\"dataframe\">\n",
              "  <thead>\n",
              "    <tr style=\"text-align: right;\">\n",
              "      <th></th>\n",
              "      <th>SEX</th>\n",
              "      <th>AGE_GROUP</th>\n",
              "      <th>SUB_SICK</th>\n",
              "      <th>month</th>\n",
              "      <th>season</th>\n",
              "      <th>main</th>\n",
              "    </tr>\n",
              "  </thead>\n",
              "  <tbody>\n",
              "    <tr>\n",
              "      <th>SEX</th>\n",
              "      <td>1.000000</td>\n",
              "      <td>0.123852</td>\n",
              "      <td>-0.010934</td>\n",
              "      <td>-0.016712</td>\n",
              "      <td>0.011868</td>\n",
              "      <td>-0.065185</td>\n",
              "    </tr>\n",
              "    <tr>\n",
              "      <th>AGE_GROUP</th>\n",
              "      <td>0.123852</td>\n",
              "      <td>1.000000</td>\n",
              "      <td>-0.080767</td>\n",
              "      <td>-0.071931</td>\n",
              "      <td>-0.027797</td>\n",
              "      <td>-0.286270</td>\n",
              "    </tr>\n",
              "    <tr>\n",
              "      <th>SUB_SICK</th>\n",
              "      <td>-0.010934</td>\n",
              "      <td>-0.080767</td>\n",
              "      <td>1.000000</td>\n",
              "      <td>-0.022517</td>\n",
              "      <td>0.033857</td>\n",
              "      <td>0.355053</td>\n",
              "    </tr>\n",
              "    <tr>\n",
              "      <th>month</th>\n",
              "      <td>-0.016712</td>\n",
              "      <td>-0.071931</td>\n",
              "      <td>-0.022517</td>\n",
              "      <td>1.000000</td>\n",
              "      <td>0.008350</td>\n",
              "      <td>0.010238</td>\n",
              "    </tr>\n",
              "    <tr>\n",
              "      <th>season</th>\n",
              "      <td>0.011868</td>\n",
              "      <td>-0.027797</td>\n",
              "      <td>0.033857</td>\n",
              "      <td>0.008350</td>\n",
              "      <td>1.000000</td>\n",
              "      <td>0.043811</td>\n",
              "    </tr>\n",
              "    <tr>\n",
              "      <th>main</th>\n",
              "      <td>-0.065185</td>\n",
              "      <td>-0.286270</td>\n",
              "      <td>0.355053</td>\n",
              "      <td>0.010238</td>\n",
              "      <td>0.043811</td>\n",
              "      <td>1.000000</td>\n",
              "    </tr>\n",
              "  </tbody>\n",
              "</table>\n",
              "</div>"
            ],
            "text/plain": [
              "                SEX  AGE_GROUP  SUB_SICK     month    season      main\n",
              "SEX        1.000000   0.123852 -0.010934 -0.016712  0.011868 -0.065185\n",
              "AGE_GROUP  0.123852   1.000000 -0.080767 -0.071931 -0.027797 -0.286270\n",
              "SUB_SICK  -0.010934  -0.080767  1.000000 -0.022517  0.033857  0.355053\n",
              "month     -0.016712  -0.071931 -0.022517  1.000000  0.008350  0.010238\n",
              "season     0.011868  -0.027797  0.033857  0.008350  1.000000  0.043811\n",
              "main      -0.065185  -0.286270  0.355053  0.010238  0.043811  1.000000"
            ]
          },
          "execution_count": 19,
          "metadata": {},
          "output_type": "execute_result"
        }
      ],
      "source": [
        "dm=da[['SEX','AGE_GROUP','MAIN_SICK','SUB_SICK','month','season']]\n",
        "\n",
        "#dm['main']=do['MAIN_SICK'].str.extract(r'(R42+|I63+|I67+|I61+|I65+|I69+|S00+|C41|R51|T20|H10+|H0411|H25+|H16+|H258|H010|J304|J01|J00|J303|R52|K052|K050|R52|K052|K050)')\n",
        "dm['main']=do['MAIN_SICK'].str.extract(r'(J304|J01|J00|J303|H10+|H25+|H041+|R51+|R42+H16+)')\n",
        "print(dm['main'].value_counts().head(30))\n",
        "\n",
        "dm['main']=dm['main'].astype('category').cat.codes\n",
        "dm=dm[dm.main != -1]\n",
        "dm['SUB_SICK']=dm['SUB_SICK'].astype('category').cat.codes\n",
        "corr=dm.corr(method = 'pearson')\n",
        "corr\n",
        "\n"
      ],
      "id": "fc13677d"
    },
    {
      "cell_type": "code",
      "execution_count": null,
      "metadata": {
        "id": "93eb842a",
        "outputId": "e197b6fa-9e9d-45d4-cd9c-0e87c7be0ff1"
      },
      "outputs": [
        {
          "data": {
            "image/png": "[encoded data removed]",
            "text/plain": [
              "<Figure size 720x720 with 2 Axes>"
            ]
          },
          "metadata": {},
          "output_type": "display_data"
        }
      ],
      "source": [
        "cols=['SEX','AGE_GROUP','MAIN_SICK','SUB_SICK','month','season']\n",
        "\n",
        "fig = plt.figure(figsize= (10,10))\n",
        "ax = fig.gca()\n",
        "\n",
        "sns.set(font_scale = 1.5)\n",
        "heatmap = sns.heatmap(corr.values, annot = True, fmt = '.2f', annot_kws={'size':15},\n",
        "                     yticklabels = cols, xticklabels = cols, ax=ax, cmap='RdYlBu')\n",
        "\n",
        "\n",
        "plt.tight_layout()\n",
        "plt.show()"
      ],
      "id": "93eb842a"
    },
    {
      "cell_type": "markdown",
      "metadata": {
        "id": "7593b266"
      },
      "source": [
        "# k-means for total"
      ],
      "id": "7593b266"
    },
    {
      "cell_type": "code",
      "execution_count": null,
      "metadata": {
        "id": "007b77f5",
        "outputId": "d6a2d5fd-85e7-49ed-a6c5-ec1538fdf4e0",
        "scrolled": false
      },
      "outputs": [
        {
          "name": "stdout",
          "output_type": "stream",
          "text": [
            "         SEX  AGE_GROUP  season  main  SUB_SICK\n",
            "7172       1         14       3     9       569\n",
            "7491       2         14       3     6       569\n",
            "7981       2         14       3     6       569\n",
            "8152       1         14       3     6       569\n",
            "8194       2         15       4    10       569\n",
            "...      ...        ...     ...   ...       ...\n",
            "1048515    2         15       4     6       437\n",
            "1048525    1         18       4     9       437\n",
            "1048538    2         18       4     9       437\n",
            "1048539    2         18       3     9       437\n",
            "1048562    1         14       3     9       430\n",
            "\n",
            "[76457 rows x 5 columns]\n",
            "k:  1 | cost :  1979892807.2354429\n",
            "k:  2 | cost :  925187541.2432132\n",
            "k:  3 | cost :  282061926.2301768\n",
            "k:  4 | cost :  133924679.69619392\n",
            "k:  5 | cost :  101418132.35968514\n",
            "k:  6 | cost :  73929074.00857335\n",
            "k:  7 | cost :  50946525.47937208\n",
            "k:  8 | cost :  41119125.41008108\n",
            "k:  9 | cost :  31830927.112655506\n",
            "k:  10 | cost :  26231674.379346944\n",
            "k:  11 | cost :  20719096.28388585\n",
            "k:  12 | cost :  16688005.335539235\n",
            "k:  13 | cost :  13982845.331373427\n",
            "k:  14 | cost :  12250044.514303928\n"
          ]
        },
        {
          "data": {
            "text/plain": [
              "[<matplotlib.lines.Line2D at 0x2040b2820d0>]"
            ]
          },
          "execution_count": 21,
          "metadata": {},
          "output_type": "execute_result"
        },
        {
          "data": {
            "image/png": "[encoded data removed]",
            "text/plain": [
              "<Figure size 1440x1008 with 1 Axes>"
            ]
          },
          "metadata": {},
          "output_type": "display_data"
        }
      ],
      "source": [
        "dm=dm[ ['SEX','AGE_GROUP','season','main','SUB_SICK']]\n",
        "dm\n",
        "\n",
        "print(dm)\n",
        "\n",
        "from sklearn.cluster import KMeans\n",
        "\n",
        "x= dm\n",
        "\n",
        "k_list=[]\n",
        "cost_list=[]\n",
        "\n",
        "for k in range(1,15) :\n",
        "    kmeans = KMeans(n_clusters=k).fit(x)\n",
        "    interia = kmeans.inertia_\n",
        "    print('k: ', k, \"| cost : \", interia)\n",
        "    k_list.append(k)\n",
        "    cost_list.append(interia)\n",
        "\n",
        "plt.figure(figsize=(20,14))\n",
        "plt.plot(k_list, cost_list)"
      ],
      "id": "007b77f5"
    },
    {
      "cell_type": "code",
      "execution_count": null,
      "metadata": {
        "id": "335b454d",
        "outputId": "c4132886-681c-4eb4-8d8e-80cd757ec091",
        "scrolled": true
      },
      "outputs": [
        {
          "data": {
            "text/html": [
              "<div>\n",
              "<style scoped>\n",
              "    .dataframe tbody tr th:only-of-type {\n",
              "        vertical-align: middle;\n",
              "    }\n",
              "\n",
              "    .dataframe tbody tr th {\n",
              "        vertical-align: top;\n",
              "    }\n",
              "\n",
              "    .dataframe thead th {\n",
              "        text-align: right;\n",
              "    }\n",
              "</style>\n",
              "<table border=\"1\" class=\"dataframe\">\n",
              "  <thead>\n",
              "    <tr style=\"text-align: right;\">\n",
              "      <th></th>\n",
              "      <th>SEX</th>\n",
              "      <th>AGE_GROUP</th>\n",
              "      <th>season</th>\n",
              "      <th>main</th>\n",
              "      <th>SUB_SICK</th>\n",
              "      <th>cluster_num</th>\n",
              "    </tr>\n",
              "  </thead>\n",
              "  <tbody>\n",
              "    <tr>\n",
              "      <th>7172</th>\n",
              "      <td>1</td>\n",
              "      <td>14</td>\n",
              "      <td>3</td>\n",
              "      <td>9</td>\n",
              "      <td>569</td>\n",
              "      <td>0</td>\n",
              "    </tr>\n",
              "    <tr>\n",
              "      <th>7491</th>\n",
              "      <td>2</td>\n",
              "      <td>14</td>\n",
              "      <td>3</td>\n",
              "      <td>6</td>\n",
              "      <td>569</td>\n",
              "      <td>0</td>\n",
              "    </tr>\n",
              "    <tr>\n",
              "      <th>7981</th>\n",
              "      <td>2</td>\n",
              "      <td>14</td>\n",
              "      <td>3</td>\n",
              "      <td>6</td>\n",
              "      <td>569</td>\n",
              "      <td>0</td>\n",
              "    </tr>\n",
              "    <tr>\n",
              "      <th>8152</th>\n",
              "      <td>1</td>\n",
              "      <td>14</td>\n",
              "      <td>3</td>\n",
              "      <td>6</td>\n",
              "      <td>569</td>\n",
              "      <td>0</td>\n",
              "    </tr>\n",
              "    <tr>\n",
              "      <th>8194</th>\n",
              "      <td>2</td>\n",
              "      <td>15</td>\n",
              "      <td>4</td>\n",
              "      <td>10</td>\n",
              "      <td>569</td>\n",
              "      <td>0</td>\n",
              "    </tr>\n",
              "    <tr>\n",
              "      <th>...</th>\n",
              "      <td>...</td>\n",
              "      <td>...</td>\n",
              "      <td>...</td>\n",
              "      <td>...</td>\n",
              "      <td>...</td>\n",
              "      <td>...</td>\n",
              "    </tr>\n",
              "    <tr>\n",
              "      <th>1048515</th>\n",
              "      <td>2</td>\n",
              "      <td>15</td>\n",
              "      <td>4</td>\n",
              "      <td>6</td>\n",
              "      <td>437</td>\n",
              "      <td>1</td>\n",
              "    </tr>\n",
              "    <tr>\n",
              "      <th>1048525</th>\n",
              "      <td>1</td>\n",
              "      <td>18</td>\n",
              "      <td>4</td>\n",
              "      <td>9</td>\n",
              "      <td>437</td>\n",
              "      <td>1</td>\n",
              "    </tr>\n",
              "    <tr>\n",
              "      <th>1048538</th>\n",
              "      <td>2</td>\n",
              "      <td>18</td>\n",
              "      <td>4</td>\n",
              "      <td>9</td>\n",
              "      <td>437</td>\n",
              "      <td>1</td>\n",
              "    </tr>\n",
              "    <tr>\n",
              "      <th>1048539</th>\n",
              "      <td>2</td>\n",
              "      <td>18</td>\n",
              "      <td>3</td>\n",
              "      <td>9</td>\n",
              "      <td>437</td>\n",
              "      <td>1</td>\n",
              "    </tr>\n",
              "    <tr>\n",
              "      <th>1048562</th>\n",
              "      <td>1</td>\n",
              "      <td>14</td>\n",
              "      <td>3</td>\n",
              "      <td>9</td>\n",
              "      <td>430</td>\n",
              "      <td>1</td>\n",
              "    </tr>\n",
              "  </tbody>\n",
              "</table>\n",
              "<p>76457 rows × 6 columns</p>\n",
              "</div>"
            ],
            "text/plain": [
              "         SEX  AGE_GROUP  season  main  SUB_SICK  cluster_num\n",
              "7172       1         14       3     9       569            0\n",
              "7491       2         14       3     6       569            0\n",
              "7981       2         14       3     6       569            0\n",
              "8152       1         14       3     6       569            0\n",
              "8194       2         15       4    10       569            0\n",
              "...      ...        ...     ...   ...       ...          ...\n",
              "1048515    2         15       4     6       437            1\n",
              "1048525    1         18       4     9       437            1\n",
              "1048538    2         18       4     9       437            1\n",
              "1048539    2         18       3     9       437            1\n",
              "1048562    1         14       3     9       430            1\n",
              "\n",
              "[76457 rows x 6 columns]"
            ]
          },
          "execution_count": 22,
          "metadata": {},
          "output_type": "execute_result"
        }
      ],
      "source": [
        "kmeans=KMeans(n_clusters=5).fit(X)\n",
        "cluster_num=pd.Series(kmeans.predict(X))\n",
        "dm['cluster_num']=cluster_num.values\n",
        "dm"
      ],
      "id": "335b454d"
    },
    {
      "cell_type": "code",
      "execution_count": null,
      "metadata": {
        "id": "7d435caf",
        "outputId": "a3e1d890-58c3-4478-9c82-85ff9316ab1b",
        "scrolled": true
      },
      "outputs": [
        {
          "data": {
            "image/png": "[encoded data removed]",
            "text/plain": [
              "<Figure size 432x288 with 1 Axes>"
            ]
          },
          "metadata": {},
          "output_type": "display_data"
        }
      ],
      "source": [
        "sns.boxplot(x='SEX', y='cluster_num', data=dm)\n",
        "plt.title('sex by cluster')\n",
        "plt.show()"
      ],
      "id": "7d435caf"
    },
    {
      "cell_type": "code",
      "execution_count": null,
      "metadata": {
        "id": "e5199f25",
        "outputId": "f215d14e-e458-4669-a05e-f61da5a79a56",
        "scrolled": true
      },
      "outputs": [
        {
          "data": {
            "image/png": "[encoded data removed]",
            "text/plain": [
              "<Figure size 432x288 with 1 Axes>"
            ]
          },
          "metadata": {},
          "output_type": "display_data"
        }
      ],
      "source": [
        "sns.boxplot(x='cluster_num', y='AGE_GROUP', data=dm)\n",
        "plt.title('age by cluster')\n",
        "plt.show()"
      ],
      "id": "e5199f25"
    },
    {
      "cell_type": "code",
      "execution_count": null,
      "metadata": {
        "id": "cf409ef1",
        "outputId": "57be6239-3e81-47e1-d410-f14934016b12",
        "scrolled": true
      },
      "outputs": [
        {
          "data": {
            "image/png": "[encoded data removed]",
            "text/plain": [
              "<Figure size 432x288 with 1 Axes>"
            ]
          },
          "metadata": {},
          "output_type": "display_data"
        }
      ],
      "source": [
        "sns.boxplot(x='season', y='cluster_num', data=dm)\n",
        "plt.title('season by cluster')\n",
        "plt.show()"
      ],
      "id": "cf409ef1"
    },
    {
      "cell_type": "code",
      "execution_count": null,
      "metadata": {
        "id": "4776ae9f",
        "outputId": "45f04ce3-fde2-43cd-d717-050f9f06c20b",
        "scrolled": true
      },
      "outputs": [
        {
          "data": {
            "image/png": "[encoded data removed]",
            "text/plain": [
              "<Figure size 432x288 with 1 Axes>"
            ]
          },
          "metadata": {},
          "output_type": "display_data"
        }
      ],
      "source": [
        "sns.boxplot(x='cluster_num', y='main', data=dm)\n",
        "plt.title('sick by cluster')\n",
        "plt.show()"
      ],
      "id": "4776ae9f"
    },
    {
      "cell_type": "code",
      "execution_count": null,
      "metadata": {
        "id": "bf885fbb",
        "outputId": "74557e62-d477-4dd1-9607-2989852b32cc",
        "scrolled": true
      },
      "outputs": [
        {
          "name": "stderr",
          "output_type": "stream",
          "text": [
            "No handles with labels found to put in legend.\n"
          ]
        },
        {
          "data": {
            "image/png": "[encoded data removed]",
            "text/plain": [
              "<Figure size 432x288 with 1 Axes>"
            ]
          },
          "metadata": {},
          "output_type": "display_data"
        }
      ],
      "source": [
        "sns.boxplot(x='cluster_num', y='SUB_SICK', data=dm)\n",
        "plt.title('sub by cluster')\n",
        "plt.legend()\n",
        "plt.show()"
      ],
      "id": "bf885fbb"
    },
    {
      "cell_type": "code",
      "execution_count": null,
      "metadata": {
        "id": "74d18310"
      },
      "outputs": [],
      "source": [],
      "id": "74d18310"
    },
    {
      "cell_type": "code",
      "execution_count": null,
      "metadata": {
        "id": "6e0c550a"
      },
      "outputs": [],
      "source": [],
      "id": "6e0c550a"
    },
    {
      "cell_type": "code",
      "execution_count": null,
      "metadata": {
        "id": "bdbd74ed"
      },
      "outputs": [],
      "source": [],
      "id": "bdbd74ed"
    },
    {
      "cell_type": "code",
      "execution_count": null,
      "metadata": {
        "id": "651d400d"
      },
      "outputs": [],
      "source": [],
      "id": "651d400d"
    }
  ],
  "metadata": {
    "colab": {
      "collapsed_sections": [
        "5f8a12e8"
      ],
      "provenance": []
    },
    "kernelspec": {
      "display_name": "Python 3",
      "language": "python",
      "name": "python3"
    },
    "language_info": {
      "codemirror_mode": {
        "name": "ipython",
        "version": 3
      },
      "file_extension": ".py",
      "mimetype": "text/x-python",
      "name": "python",
      "nbconvert_exporter": "python",
      "pygments_lexer": "ipython3",
      "version": "3.8.8"
    }
  },
  "nbformat": 4,
  "nbformat_minor": 5
}